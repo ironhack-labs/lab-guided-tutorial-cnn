{
 "cells": [
  {
   "cell_type": "markdown",
   "metadata": {
    "id": "_K94I7aFLQ9S"
   },
   "source": [
    "# Tutorial : Image Classification using CNN\n",
    "\n",
    "At the end of this tutorial, you would get familiarized with\n",
    "\n",
    "*   Creating deep networks using Keras\n",
    "*   Steps necessary in training a neural network\n",
    "*   Prediction and performance analysis using neural networks\n",
    "\n",
    "---"
   ]
  },
  {
   "cell_type": "markdown",
   "metadata": {
    "id": "KdglSzOi4Cp-"
   },
   "source": [
    "# **Colaboratory environment**\n",
    "By default, Colab notebooks run on CPU.\n",
    "You can switch your notebook to run with GPU.\n",
    "\n",
    "In order to obtain access to the GPU, you need to choose the tab Runtime and then select “Change runtime type” as shown in the following figure:\n",
    "\n",
    "![Changing runtime](https://miro.medium.com/max/747/1*euE7nGZ0uJQcgvkpgvkoQg.png)\n",
    "\n",
    "When a pop-up window appears select GPU. \n",
    "\n",
    "**Ensure “Hardware accelerator” is set to GPU.**"
   ]
  },
  {
   "cell_type": "markdown",
   "metadata": {
    "id": "Zli14lxJ48BK"
   },
   "source": [
    "# **Environment set up**\n",
    "**Keras** is a Python library that provides, in a simple way, the creation of a wide range of Deep Learning models using as backend other libraries such as TensorFlow, Theano or CNTK **(We would use Tensorflow backend)**. \n",
    "\n",
    "Keras is used since its learning curve is very smooth compared to others, and at the moment it is one of the popular middleware to implement neural networks.\n",
    "\n",
    "The developer guides for Keras can be found at: https://keras.io/guides/"
   ]
  },
  {
   "cell_type": "code",
   "execution_count": null,
   "metadata": {
    "colab": {
     "base_uri": "https://localhost:8080/"
    },
    "executionInfo": {
     "elapsed": 3686,
     "status": "ok",
     "timestamp": 1667911202240,
     "user": {
      "displayName": "Bhalaji Nagarajan",
      "userId": "08128536337584225726"
     },
     "user_tz": -60
    },
    "id": "P3BPaal61sjX",
    "outputId": "ea5139e2-1936-42f6-86f5-a6591e73ddda"
   },
   "outputs": [],
   "source": [
    "from tensorflow import keras\n",
    "\n",
    "print(keras.__version__)"
   ]
  },
  {
   "cell_type": "markdown",
   "metadata": {
    "id": "I5slKBah5sLk"
   },
   "source": [
    "# **Understanding Data: MNIST Dataset**\n",
    "The MNIST dataset is an acronym that stands for the Modified National Institute of Standards and Technology dataset. \n",
    "\n",
    "It is a dataset of 60,000 small square 28×28 pixel grayscale images of handwritten single digits between 0 and 9.\n",
    "\n",
    "In Keras, the MNIST dataset is preloaded in the form of four Numpy arrays. x_train and y_train contain the training set, while x_test and y_test contain the test data. The images are encoded as Numpy arrays and their corresponding labels ranging from 0 to 9."
   ]
  },
  {
   "cell_type": "code",
   "execution_count": null,
   "metadata": {
    "colab": {
     "base_uri": "https://localhost:8080/"
    },
    "executionInfo": {
     "elapsed": 2262,
     "status": "ok",
     "timestamp": 1667911204495,
     "user": {
      "displayName": "Bhalaji Nagarajan",
      "userId": "08128536337584225726"
     },
     "user_tz": -60
    },
    "id": "KWxUKDUf0N70",
    "outputId": "3d3eb986-2ef3-4208-d96e-871b975d4c95"
   },
   "outputs": [],
   "source": [
    "from tensorflow.keras.datasets import mnist\n",
    "(x_train, y_train), (x_test, y_test) = mnist.load_data()\n",
    "\n",
    "print(x_train.shape)\n",
    "print(x_train.ndim)\n",
    "print(x_train.dtype)\n",
    "\n",
    "print(x_test.shape)"
   ]
  },
  {
   "cell_type": "markdown",
   "metadata": {
    "id": "ibzTShLR-ZYv"
   },
   "source": [
    "## Visualizing the Data\n",
    "\n",
    "A plot of the first nine images in the dataset is created showing the natural handwritten nature of the images to be classified.\n",
    "\n",
    "**Let us create a 3*3 subplot to visualize the first 9 images of the dataset.** "
   ]
  },
  {
   "cell_type": "code",
   "execution_count": null,
   "metadata": {
    "colab": {
     "base_uri": "https://localhost:8080/",
     "height": 268
    },
    "executionInfo": {
     "elapsed": 2351,
     "status": "ok",
     "timestamp": 1667911206843,
     "user": {
      "displayName": "Bhalaji Nagarajan",
      "userId": "08128536337584225726"
     },
     "user_tz": -60
    },
    "id": "o8VOg4ix0Yry",
    "outputId": "29949993-a0c4-4d2b-ffcb-64e7e32147bb"
   },
   "outputs": [],
   "source": [
    "import matplotlib.pyplot as plt\n",
    "\n",
    "for i in range(9):\n",
    "\tplt.subplot(330 + 1 + i)\n",
    "\tplt.imshow(x_train[i], cmap=plt.get_cmap('gray'))\n",
    "plt.show()"
   ]
  },
  {
   "cell_type": "markdown",
   "metadata": {
    "id": "uGZkLxinEN6L"
   },
   "source": [
    "## Data normalization\n",
    "\n",
    "The pixel values for each image in the dataset are unsigned integers in the range between black and white, or 0 and 255.\n",
    "\n",
    "**Let us normalize the pixel values of grayscale images, e.g. rescale them to the range [0,1].**\n",
    "\n",
    "*Hint: 'astype' is a numpy function that could be used to cast the numpy array to a specified type*"
   ]
  },
  {
   "cell_type": "code",
   "execution_count": null,
   "metadata": {
    "colab": {
     "base_uri": "https://localhost:8080/"
    },
    "executionInfo": {
     "elapsed": 27,
     "status": "ok",
     "timestamp": 1667911206844,
     "user": {
      "displayName": "Bhalaji Nagarajan",
      "userId": "08128536337584225726"
     },
     "user_tz": -60
    },
    "id": "iODdnwlH0xyw",
    "outputId": "efa69997-f582-42b4-acb7-485eebd2c334"
   },
   "outputs": [],
   "source": [
    "x_train = x_train.astype(\"float32\") / 255\n",
    "x_test = x_test.astype(\"float32\") / 255\n",
    "\n",
    "print(x_train.shape)\n",
    "print(x_test.shape)"
   ]
  },
  {
   "cell_type": "markdown",
   "metadata": {
    "id": "-AK7-4arKNF9"
   },
   "source": [
    "## Preparing data\n",
    "The images are all pre-aligned (e.g. each image only contains a hand-drawn digit) and they have the same square size of 28×28 pixels. Also, the images are grayscale. Therefore, we can load the images and reshape the data arrays to have a 1D vector data.\n",
    "\n",
    "*Note that this data preparation is not applicable for all networks*\n",
    "\n",
    "**Let us reshape the images as a 1D vector.**"
   ]
  },
  {
   "cell_type": "code",
   "execution_count": null,
   "metadata": {
    "colab": {
     "base_uri": "https://localhost:8080/"
    },
    "executionInfo": {
     "elapsed": 17,
     "status": "ok",
     "timestamp": 1667911206844,
     "user": {
      "displayName": "Bhalaji Nagarajan",
      "userId": "08128536337584225726"
     },
     "user_tz": -60
    },
    "id": "mQWNj20I0_-w",
    "outputId": "33462816-0307-4d36-8f47-3b682f514bd9"
   },
   "outputs": [],
   "source": [
    "x_train = x_train.reshape(60000, 784)\n",
    "x_test = x_test.reshape(10000, 784)\n",
    "\n",
    "print(x_train.shape)\n",
    "print(x_test.shape)"
   ]
  },
  {
   "cell_type": "markdown",
   "metadata": {
    "id": "3yNN4gs-LOmS"
   },
   "source": [
    "## Preparing labels\n",
    "\n",
    "The labels for each input data (remember that in our case they are numbers between 0 and 9) indicate which digit represents the image, that is, to which class it is associated. \n",
    "\n",
    "In this case, we will represent this label with a vector of 10 positions, where the position corresponding to the digit that represents the image contains a 1 and the remaining positions of the vector contain the value 0. This is known as **one-hot encoding.**\n",
    "\n",
    "**Let us convert the labels into the equivalent one-hot encoded form.**\n",
    "\n",
    "*Hint: keras.utils.to_categorical could be used to convert an integer vector to a binary class matrix.*"
   ]
  },
  {
   "cell_type": "code",
   "execution_count": null,
   "metadata": {
    "colab": {
     "base_uri": "https://localhost:8080/"
    },
    "executionInfo": {
     "elapsed": 13,
     "status": "ok",
     "timestamp": 1667911206845,
     "user": {
      "displayName": "Bhalaji Nagarajan",
      "userId": "08128536337584225726"
     },
     "user_tz": -60
    },
    "id": "hRBa1_PA1KBX",
    "outputId": "4cdebfba-91f1-4384-80b8-c1d9afdc1cce"
   },
   "outputs": [],
   "source": [
    "from tensorflow.keras.utils import to_categorical\n",
    "\n",
    "y_train = to_categorical(y_train, num_classes=10)\n",
    "y_test = to_categorical(y_test, num_classes=10)\n",
    "\n",
    "print(y_train.shape)\n",
    "print(y_test.shape)"
   ]
  },
  {
   "cell_type": "markdown",
   "metadata": {
    "id": "dfEBWzOpOmP7"
   },
   "source": [
    "# **Defining Model**\n",
    "\n",
    "The Sequential class of the Keras library is a wrapper for the sequential neural network model. In this case, the model in Keras is considered as a sequence of layers and each of them gradually “distills” the input data to obtain the desired output. \n",
    "\n",
    "In Keras we can find all the required types of layers that can be easily added to the model through the add() method. \n",
    "\n",
    "Below snippet shows a simple network with a single dense layer. \n",
    "\n",
    "*Note that the input information has to be defined in the first layer of the model.* "
   ]
  },
  {
   "cell_type": "code",
   "execution_count": null,
   "metadata": {
    "executionInfo": {
     "elapsed": 2911,
     "status": "ok",
     "timestamp": 1667911209748,
     "user": {
      "displayName": "Bhalaji Nagarajan",
      "userId": "08128536337584225726"
     },
     "user_tz": -60
    },
    "id": "KjW4xAFaP1KG"
   },
   "outputs": [],
   "source": [
    "from tensorflow.keras.models import Sequential\n",
    "from tensorflow.keras.layers import Dense, Activation\n",
    "\n",
    "model = Sequential()\n",
    "model.add(Dense(10, input_dim=784))\n",
    "model.add(Activation('relu'))"
   ]
  },
  {
   "cell_type": "markdown",
   "metadata": {
    "id": "wqxvLQf6QSv1"
   },
   "source": [
    "The architecture of the model can be checked using the function **summary()** available in the model class. Note that the summary returns the layer information along with the output shape for each layer and the number of parameters that needs to be trained.\n",
    "\n",
    "In this simple example, it indicates that 7,850 parameters are required (column Param #). In the first layer, for each neuron i (between 0 and 9) we require 784 parameters for the weights wij and therefore 10×784 parameters to store the weights of the 10 neurons. In addition to that 10 additional parameters for the 10 bj biases corresponding to each one of them.\n",
    "\n",
    "The non-trainable parameters of a model are those that will not be updating and optimized during training, and that have to be defined a priori, or passed as inputs. "
   ]
  },
  {
   "cell_type": "code",
   "execution_count": null,
   "metadata": {
    "colab": {
     "base_uri": "https://localhost:8080/"
    },
    "executionInfo": {
     "elapsed": 14,
     "status": "ok",
     "timestamp": 1667911209748,
     "user": {
      "displayName": "Bhalaji Nagarajan",
      "userId": "08128536337584225726"
     },
     "user_tz": -60
    },
    "id": "8mktMmmURAfb",
    "outputId": "5c0083b1-9029-4993-bb01-e596ea4243db"
   },
   "outputs": [],
   "source": [
    "model.summary()"
   ]
  },
  {
   "cell_type": "markdown",
   "metadata": {
    "id": "sqHk3fztYFjs"
   },
   "source": [
    "# Compiling models\n",
    "\n",
    "Before training a model, we need to configure the learning process, which is done via the compile method. It receives three arguments:\n",
    "\n",
    "*   Loss function\n",
    "*   Optimizer\n",
    "*   Metrics\n",
    "\n",
    "**Hint: Learn the commonly used loss functions and optimizers available in Keras documentation.**"
   ]
  },
  {
   "cell_type": "code",
   "execution_count": null,
   "metadata": {
    "executionInfo": {
     "elapsed": 3,
     "status": "ok",
     "timestamp": 1667911209748,
     "user": {
      "displayName": "Bhalaji Nagarajan",
      "userId": "08128536337584225726"
     },
     "user_tz": -60
    },
    "id": "aVdNIBmv102V"
   },
   "outputs": [],
   "source": [
    "model.compile(loss='categorical_crossentropy',\n",
    "              optimizer='sgd',\n",
    "              metrics = ['accuracy'])"
   ]
  },
  {
   "cell_type": "markdown",
   "metadata": {
    "id": "ktS7_-13ZSfp"
   },
   "source": [
    "## Training models\n",
    "\n",
    "Keras models are trained on Numpy arrays of input data and labels. For training a model, we will typically use the fit function."
   ]
  },
  {
   "cell_type": "code",
   "execution_count": null,
   "metadata": {
    "colab": {
     "base_uri": "https://localhost:8080/"
    },
    "executionInfo": {
     "elapsed": 4522,
     "status": "ok",
     "timestamp": 1667911571874,
     "user": {
      "displayName": "Bhalaji Nagarajan",
      "userId": "08128536337584225726"
     },
     "user_tz": -60
    },
    "id": "gCpox6Oa19c9",
    "outputId": "7a4b0450-d509-4055-fbde-5f1c7efed2f4"
   },
   "outputs": [],
   "source": [
    "history = model.fit(x_train, y_train, batch_size=1024, epochs=5)"
   ]
  },
  {
   "cell_type": "markdown",
   "metadata": {
    "id": "ViagI49FvTmo"
   },
   "source": [
    "## History Callback\n",
    "\n",
    "A callback is a set of functions to be applied at given stages of the training procedure. It can be used to get a view on internal states and statistics of the model during training. There are several callbacks are available in Keras and they are passed as a list of callbacks to the .fit() method.\n",
    "\n",
    "The History object gets returned by the fit method of models and is automatically applied to every Keras model."
   ]
  },
  {
   "cell_type": "code",
   "execution_count": null,
   "metadata": {
    "colab": {
     "base_uri": "https://localhost:8080/"
    },
    "executionInfo": {
     "elapsed": 4,
     "status": "ok",
     "timestamp": 1667911577443,
     "user": {
      "displayName": "Bhalaji Nagarajan",
      "userId": "08128536337584225726"
     },
     "user_tz": -60
    },
    "id": "bPsnRowdMT1P",
    "outputId": "625c243e-348f-45f1-9d56-3a5f77afe431"
   },
   "outputs": [],
   "source": [
    "print(history.history.keys())"
   ]
  },
  {
   "cell_type": "code",
   "execution_count": null,
   "metadata": {
    "colab": {
     "base_uri": "https://localhost:8080/"
    },
    "executionInfo": {
     "elapsed": 3,
     "status": "ok",
     "timestamp": 1667911579844,
     "user": {
      "displayName": "Bhalaji Nagarajan",
      "userId": "08128536337584225726"
     },
     "user_tz": -60
    },
    "id": "sJFu3XH8nV6G",
    "outputId": "03358a6d-0354-4c32-935b-03b73c295c35"
   },
   "outputs": [],
   "source": [
    "print(history.history['loss']) # returns the loss value at the end of each epoch\n",
    "print(history.history['accuracy']) # returns the accuracy at the end of each epoch"
   ]
  },
  {
   "cell_type": "markdown",
   "metadata": {
    "id": "leHvxD0twlKs"
   },
   "source": [
    "**Let us plot the loss values and the accuracy values as a 2 x 1 plot.**\n",
    "\n",
    "Note that the loss term decreases and the accuracy increases with respect to the epochs."
   ]
  },
  {
   "cell_type": "code",
   "execution_count": null,
   "metadata": {
    "colab": {
     "base_uri": "https://localhost:8080/",
     "height": 281
    },
    "executionInfo": {
     "elapsed": 671,
     "status": "ok",
     "timestamp": 1667911582483,
     "user": {
      "displayName": "Bhalaji Nagarajan",
      "userId": "08128536337584225726"
     },
     "user_tz": -60
    },
    "id": "lX6vd-n7wjmd",
    "outputId": "9d150af3-f6a1-42a7-92e5-894854dfe3dd"
   },
   "outputs": [],
   "source": [
    "plt.subplot(211)\n",
    "plt.title('Cross Entropy Loss')\n",
    "plt.plot(history.history['loss'], color='blue', label='train')\n",
    "\n",
    "plt.subplot(212)\n",
    "plt.title('Classification Accuracy')\n",
    "plt.plot(history.history['accuracy'], color='green', label='train')\n",
    "plt.show()"
   ]
  },
  {
   "cell_type": "markdown",
   "metadata": {
    "id": "Pk0HXuQxaNvS"
   },
   "source": [
    "# **Model evaluation**\n",
    "\n",
    "## Accuracy\n",
    "\n",
    "After training the model, the network has to be evaluated with new test data. This can be achieved by using the evaluate() method.\n",
    "\n",
    "**Let us print the test accuracy of the network.**"
   ]
  },
  {
   "cell_type": "code",
   "execution_count": null,
   "metadata": {
    "colab": {
     "base_uri": "https://localhost:8080/"
    },
    "executionInfo": {
     "elapsed": 1747,
     "status": "ok",
     "timestamp": 1667911595319,
     "user": {
      "displayName": "Bhalaji Nagarajan",
      "userId": "08128536337584225726"
     },
     "user_tz": -60
    },
    "id": "1Xmdv_Ql3UbR",
    "outputId": "10f4ab3e-162a-4ed6-b6dd-3e363e952915"
   },
   "outputs": [],
   "source": [
    "test_loss, test_acc = model.evaluate(x_test, y_test)\n",
    "print('Test loss:', test_loss)\n",
    "print('Test accuracy:', test_acc)"
   ]
  },
  {
   "cell_type": "markdown",
   "metadata": {
    "id": "7FWrHB8S5-Pb"
   },
   "source": [
    "## Confusion matrix\n",
    "\n",
    "Note that accuracy is the ratio between the correct predictions that the model has made over the total predictions regardless of what category it is. However, it is necessary to delve a little more and take into account the types of correct and incorrect predictions made by the model in each of its categories.\n",
    "\n",
    "For this purpose, a confusion matrix is used. It is a table with rows and columns that count the predictions in comparison with the real values. This is used to better understand how well the model behaves and it is very useful to show explicitly when one class is confused with another.\n",
    "\n",
    "**Hint:**\n",
    "1.   predict() is used to predict the output for the input samples.\n",
    "2.   confusion_matrix is available in sklearn.metrics"
   ]
  },
  {
   "cell_type": "code",
   "execution_count": null,
   "metadata": {
    "colab": {
     "base_uri": "https://localhost:8080/"
    },
    "executionInfo": {
     "elapsed": 1125,
     "status": "ok",
     "timestamp": 1667911601209,
     "user": {
      "displayName": "Bhalaji Nagarajan",
      "userId": "08128536337584225726"
     },
     "user_tz": -60
    },
    "id": "RXwGXfi6i2qm",
    "outputId": "a8127473-f3f4-45ed-b1c4-8aec5b37e71b"
   },
   "outputs": [],
   "source": [
    "predictions = model.predict(x_test)"
   ]
  },
  {
   "cell_type": "markdown",
   "metadata": {
    "id": "FKjrVaeeDyEL"
   },
   "source": [
    "It has to be noted that the predictions is the probability of the input belonging to any one of the class."
   ]
  },
  {
   "cell_type": "code",
   "execution_count": null,
   "metadata": {
    "colab": {
     "base_uri": "https://localhost:8080/"
    },
    "executionInfo": {
     "elapsed": 414,
     "status": "ok",
     "timestamp": 1667911605201,
     "user": {
      "displayName": "Bhalaji Nagarajan",
      "userId": "08128536337584225726"
     },
     "user_tz": -60
    },
    "id": "p7fyPS7LD058",
    "outputId": "c29b39ff-4db3-42cc-85ba-e755d67c1d1d"
   },
   "outputs": [],
   "source": [
    "print(predictions[0])"
   ]
  },
  {
   "cell_type": "markdown",
   "metadata": {
    "id": "CIvCcFe0EKFE"
   },
   "source": [
    "**Now, let us convert the probability distribution to get single output for each input. For this, we would take the maximum probability score.**"
   ]
  },
  {
   "cell_type": "code",
   "execution_count": null,
   "metadata": {
    "executionInfo": {
     "elapsed": 2,
     "status": "ok",
     "timestamp": 1667911605201,
     "user": {
      "displayName": "Bhalaji Nagarajan",
      "userId": "08128536337584225726"
     },
     "user_tz": -60
    },
    "id": "wFAtFDzOlFXn"
   },
   "outputs": [],
   "source": [
    "import numpy as np\n",
    "predictions = np.argmax(predictions, axis=1)"
   ]
  },
  {
   "cell_type": "code",
   "execution_count": null,
   "metadata": {
    "executionInfo": {
     "elapsed": 4,
     "status": "ok",
     "timestamp": 1667911606342,
     "user": {
      "displayName": "Bhalaji Nagarajan",
      "userId": "08128536337584225726"
     },
     "user_tz": -60
    },
    "id": "EApByl7wlk5a"
   },
   "outputs": [],
   "source": [
    "from sklearn.metrics import confusion_matrix\n",
    "gt = np.argmax(y_test, axis=1)"
   ]
  },
  {
   "cell_type": "markdown",
   "metadata": {
    "id": "uZR9oEl-E4yD"
   },
   "source": [
    "**Now, we will use the confusion matrix function to get the table for all the 10 classes.**"
   ]
  },
  {
   "cell_type": "code",
   "execution_count": null,
   "metadata": {
    "colab": {
     "base_uri": "https://localhost:8080/"
    },
    "executionInfo": {
     "elapsed": 3,
     "status": "ok",
     "timestamp": 1667911609436,
     "user": {
      "displayName": "Bhalaji Nagarajan",
      "userId": "08128536337584225726"
     },
     "user_tz": -60
    },
    "id": "SMyihJtbmVQO",
    "outputId": "771446e0-e0e6-4952-8a45-3155597f914d"
   },
   "outputs": [],
   "source": [
    "confusion_matrix(gt, predictions)"
   ]
  },
  {
   "cell_type": "markdown",
   "metadata": {
    "id": "UPmsnSf7oJEO"
   },
   "source": [
    "# **Defining different models**\n",
    "\n",
    "In the previous example, we designed a neural network with just dense layers. But in practice, the deep networks are more wider and deeper.\n",
    "\n",
    "When we define a model, the shallow layers learn the low level features such as edges and as the networks go deeper, the network learns the high level features. \n",
    "The model, in general, has two main aspects: the feature extraction front end comprised of convolutional and pooling layers, and the classifier backend that will make a prediction.\n",
    "\n",
    "**Define the following model:** \n",
    "\n",
    "**For the convolutional front-end, start with a single convolutional layer with a small filter size (3,3) and a modest number of filters (32) followed by a max pooling layer. Use the input as (28,28,1) instead of (784,). The filter maps can then be flattened to provide features to the classifier. Use a dense layer with 100 units before the classification layer (which is also a dense layer with softmax activation).**\n",
    "\n",
    "*Hint: Conv2D, MaxPooling2D, Flatten, Dense and other layers can be obtained by importing keras.layer*"
   ]
  },
  {
   "cell_type": "code",
   "execution_count": null,
   "metadata": {
    "executionInfo": {
     "elapsed": 434,
     "status": "ok",
     "timestamp": 1667911614333,
     "user": {
      "displayName": "Bhalaji Nagarajan",
      "userId": "08128536337584225726"
     },
     "user_tz": -60
    },
    "id": "1jZHNMZCn-ps"
   },
   "outputs": [],
   "source": [
    "from keras.layers import Conv2D, MaxPooling2D, Flatten, Dense\n",
    "model = Sequential()\n",
    "model.add(Conv2D(32, (3, 3), activation='relu', kernel_initializer='he_uniform', input_shape=(28, 28, 1)))\n",
    "model.add(MaxPooling2D((2, 2)))\n",
    "model.add(Flatten())\n",
    "model.add(Dense(100, activation='relu', kernel_initializer='he_uniform'))\n",
    "model.add(Dense(10, activation='softmax'))"
   ]
  },
  {
   "cell_type": "markdown",
   "metadata": {
    "id": "fO3aLXZUJQe1"
   },
   "source": [
    "**Let us check the architecture using summary().**"
   ]
  },
  {
   "cell_type": "code",
   "execution_count": null,
   "metadata": {
    "colab": {
     "base_uri": "https://localhost:8080/"
    },
    "executionInfo": {
     "elapsed": 13,
     "status": "ok",
     "timestamp": 1667911614961,
     "user": {
      "displayName": "Bhalaji Nagarajan",
      "userId": "08128536337584225726"
     },
     "user_tz": -60
    },
    "id": "6Y0CAn2DJWec",
    "outputId": "f5e95059-8702-4f02-b681-2c589b262b39"
   },
   "outputs": [],
   "source": [
    "model.summary()"
   ]
  },
  {
   "cell_type": "markdown",
   "metadata": {
    "id": "SKsSmt7wJa83"
   },
   "source": [
    "**Compile the model.**"
   ]
  },
  {
   "cell_type": "code",
   "execution_count": null,
   "metadata": {
    "executionInfo": {
     "elapsed": 2,
     "status": "ok",
     "timestamp": 1667911617274,
     "user": {
      "displayName": "Bhalaji Nagarajan",
      "userId": "08128536337584225726"
     },
     "user_tz": -60
    },
    "id": "u3fm1gyXor98"
   },
   "outputs": [],
   "source": [
    "model.compile(optimizer='sgd', loss='categorical_crossentropy', metrics=['accuracy'])"
   ]
  },
  {
   "cell_type": "markdown",
   "metadata": {
    "id": "oesI8fU5KPik"
   },
   "source": [
    "**Reshape the input of the mnist dataset to the new input dimensions (28, 28, 1).**"
   ]
  },
  {
   "cell_type": "code",
   "execution_count": null,
   "metadata": {
    "colab": {
     "base_uri": "https://localhost:8080/"
    },
    "executionInfo": {
     "elapsed": 421,
     "status": "ok",
     "timestamp": 1667911621326,
     "user": {
      "displayName": "Bhalaji Nagarajan",
      "userId": "08128536337584225726"
     },
     "user_tz": -60
    },
    "id": "UNECu5UvpT4f",
    "outputId": "c4993416-c5e8-4121-c79a-b0d7817693c1"
   },
   "outputs": [],
   "source": [
    "from tensorflow.keras.datasets import mnist\n",
    "from tensorflow.keras.utils import to_categorical\n",
    "\n",
    "(x_train, y_train), (x_test, y_test) = mnist.load_data()\n",
    "\n",
    "print(x_train.shape)\n",
    "print(x_train.ndim)\n",
    "print(x_train.dtype)\n",
    "print(x_test.shape)\n",
    "\n",
    "x_train = x_train.astype(\"float32\") / 255\n",
    "x_test = x_test.astype(\"float32\") / 255\n",
    "\n",
    "print('After reshaping:')\n",
    "\n",
    "x_train = np.expand_dims(x_train, -1)\n",
    "x_test = np.expand_dims(x_test, -1)\n",
    "\n",
    "print(x_train.shape)\n",
    "print(x_train.ndim)\n",
    "print(x_train.dtype)\n",
    "print(x_test.shape)\n",
    "\n",
    "y_train = to_categorical(y_train, num_classes=10)\n",
    "y_test = to_categorical(y_test, num_classes=10)\n",
    "\n",
    "print(y_train.shape)\n",
    "print(y_test.shape)"
   ]
  },
  {
   "cell_type": "markdown",
   "metadata": {
    "id": "ALGpoYHkKmda"
   },
   "source": [
    "**Train the model for 10 epochs with a batch size of 100.**"
   ]
  },
  {
   "cell_type": "code",
   "execution_count": null,
   "metadata": {
    "colab": {
     "base_uri": "https://localhost:8080/"
    },
    "executionInfo": {
     "elapsed": 22133,
     "status": "ok",
     "timestamp": 1667911647884,
     "user": {
      "displayName": "Bhalaji Nagarajan",
      "userId": "08128536337584225726"
     },
     "user_tz": -60
    },
    "id": "e_aADgN6o8da",
    "outputId": "41341445-9886-43f2-e0ce-43ad1420ea15"
   },
   "outputs": [],
   "source": [
    "history = model.fit(x_train, y_train, batch_size=1024, epochs=25, validation_split=0.1)"
   ]
  },
  {
   "cell_type": "code",
   "execution_count": null,
   "metadata": {
    "colab": {
     "base_uri": "https://localhost:8080/"
    },
    "executionInfo": {
     "elapsed": 526,
     "status": "ok",
     "timestamp": 1667911651261,
     "user": {
      "displayName": "Bhalaji Nagarajan",
      "userId": "08128536337584225726"
     },
     "user_tz": -60
    },
    "id": "7c8ezZ4OPOz3",
    "outputId": "d0ad38d0-418e-4331-b4d9-f0169d86c295"
   },
   "outputs": [],
   "source": [
    "print(history.history.keys())"
   ]
  },
  {
   "cell_type": "markdown",
   "metadata": {
    "id": "mY4Lh9ILXj66"
   },
   "source": [
    "**Plot the loss function and the accuracy curves as before.**"
   ]
  },
  {
   "cell_type": "code",
   "execution_count": null,
   "metadata": {
    "colab": {
     "base_uri": "https://localhost:8080/",
     "height": 281
    },
    "executionInfo": {
     "elapsed": 5,
     "status": "ok",
     "timestamp": 1667911653349,
     "user": {
      "displayName": "Bhalaji Nagarajan",
      "userId": "08128536337584225726"
     },
     "user_tz": -60
    },
    "id": "_yHkKxn9XsTR",
    "outputId": "27479534-eab4-4760-f399-246841b8eebc"
   },
   "outputs": [],
   "source": [
    "plt.subplot(211)\n",
    "plt.title('Cross Entropy Loss')\n",
    "plt.plot(history.history['loss'], color='blue', label='train')\n",
    "plt.plot(history.history['val_loss'], color='red', label='val')\n",
    "\n",
    "# plot accuracy\n",
    "plt.subplot(212)\n",
    "plt.title('Classification Accuracy')\n",
    "plt.plot(history.history['accuracy'], color='green', label='train')\n",
    "plt.plot(history.history['val_accuracy'], color='red', label='val')\n",
    "plt.show()"
   ]
  },
  {
   "cell_type": "markdown",
   "metadata": {
    "id": "Dc4OAmYxKnx2"
   },
   "source": [
    "**Print the loss and the test accuracy.**"
   ]
  },
  {
   "cell_type": "code",
   "execution_count": null,
   "metadata": {
    "colab": {
     "base_uri": "https://localhost:8080/"
    },
    "executionInfo": {
     "elapsed": 681,
     "status": "ok",
     "timestamp": 1667911659942,
     "user": {
      "displayName": "Bhalaji Nagarajan",
      "userId": "08128536337584225726"
     },
     "user_tz": -60
    },
    "id": "EaCBLBnCuVqS",
    "outputId": "a9ec0947-db5d-40da-ec3e-ce67c973a940"
   },
   "outputs": [],
   "source": [
    "test_loss, test_acc = model.evaluate(x_test, y_test)\n",
    "print('Test loss:', test_loss)\n",
    "print('Test accuracy:', test_acc)"
   ]
  },
  {
   "cell_type": "markdown",
   "metadata": {
    "id": "aBgqZkJ7Kod0"
   },
   "source": [
    "**Print the confusion matrix for the test samples.**"
   ]
  },
  {
   "cell_type": "code",
   "execution_count": null,
   "metadata": {
    "colab": {
     "base_uri": "https://localhost:8080/"
    },
    "executionInfo": {
     "elapsed": 681,
     "status": "ok",
     "timestamp": 1667911662814,
     "user": {
      "displayName": "Bhalaji Nagarajan",
      "userId": "08128536337584225726"
     },
     "user_tz": -60
    },
    "id": "kAuXj1yGuFI5",
    "outputId": "75d2df87-37e0-45c7-e925-4fc5bf37a75f"
   },
   "outputs": [],
   "source": [
    "import numpy as np\n",
    "predictions = model.predict(x_test)\n",
    "\n",
    "print(predictions.shape)\n",
    "predictions = np.argmax(predictions, axis=1)"
   ]
  },
  {
   "cell_type": "code",
   "execution_count": null,
   "metadata": {
    "colab": {
     "base_uri": "https://localhost:8080/"
    },
    "executionInfo": {
     "elapsed": 3,
     "status": "ok",
     "timestamp": 1667911664497,
     "user": {
      "displayName": "Bhalaji Nagarajan",
      "userId": "08128536337584225726"
     },
     "user_tz": -60
    },
    "id": "c-0N628nuO4K",
    "outputId": "ad2a7c8c-b226-4ba8-cc0b-6e874dc8122b"
   },
   "outputs": [],
   "source": [
    "confusion_matrix(gt, predictions)"
   ]
  },
  {
   "cell_type": "markdown",
   "metadata": {
    "id": "D-p2DMcsHOii"
   },
   "source": [
    "# **Clearing models**\n",
    "clear_session() is useful when you're creating multiple models in succession, such as during hyperparameter search or cross-validation. Each model that is trained adds nodes (potentially numbering in the thousands) to the graph. Clearing the session removes all the nodes left over from previous models, freeing memory and preventing slowdown."
   ]
  },
  {
   "cell_type": "code",
   "execution_count": null,
   "metadata": {
    "executionInfo": {
     "elapsed": 10,
     "status": "ok",
     "timestamp": 1667911262298,
     "user": {
      "displayName": "Bhalaji Nagarajan",
      "userId": "08128536337584225726"
     },
     "user_tz": -60
    },
    "id": "WfWCHxh8HGhN"
   },
   "outputs": [],
   "source": [
    "from keras.backend import clear_session\n",
    "clear_session()"
   ]
  }
 ],
 "metadata": {
  "accelerator": "GPU",
  "colab": {
   "collapsed_sections": [],
   "provenance": [
    {
     "file_id": "1Y4KQehPAgpZLItGPmW0tfLdq3nBrQDpH",
     "timestamp": 1576576215149
    }
   ]
  },
  "gpuClass": "standard",
  "kernelspec": {
   "display_name": "Python (base)",
   "language": "python",
   "name": "base"
  },
  "language_info": {
   "codemirror_mode": {
    "name": "ipython",
    "version": 3
   },
   "file_extension": ".py",
   "mimetype": "text/x-python",
   "name": "python",
   "nbconvert_exporter": "python",
   "pygments_lexer": "ipython3",
   "version": "3.12.2"
  }
 },
 "nbformat": 4,
 "nbformat_minor": 4
}
